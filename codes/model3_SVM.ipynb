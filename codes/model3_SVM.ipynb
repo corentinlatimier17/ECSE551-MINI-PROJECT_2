{
 "cells": [
  {
   "cell_type": "markdown",
   "metadata": {},
   "source": [
    "### <span style=\"color: #FF9800;\"> File overview </span> ###"
   ]
  },
  {
   "cell_type": "markdown",
   "metadata": {},
   "source": [
    "This notebook implements **Support Vector Machines (SVM)** classification for the subreddit prediction dataset. Hyperparameter tuning is performed, and the model's accuracy is evaluated using **10-fold cross-validation**.\n"
   ]
  },
  {
   "cell_type": "markdown",
   "metadata": {},
   "source": [
    "### <span style=\"color: #FF9800;\">Load modules</span> ###"
   ]
  },
  {
   "cell_type": "code",
   "execution_count": null,
   "metadata": {},
   "outputs": [
    {
     "name": "stderr",
     "output_type": "stream",
     "text": [
      "[nltk_data] Downloading package punkt to /home/clatimie/nltk_data...\n",
      "[nltk_data]   Package punkt is already up-to-date!\n",
      "[nltk_data] Downloading package stopwords to\n",
      "[nltk_data]     /home/clatimie/nltk_data...\n",
      "[nltk_data]   Package stopwords is already up-to-date!\n",
      "[nltk_data] Downloading package words to /home/clatimie/nltk_data...\n",
      "[nltk_data]   Package words is already up-to-date!\n"
     ]
    }
   ],
   "source": [
    "import numpy as np\n",
    "import matplotlib.pyplot as plt\n",
    "import pandas as pd\n",
    "\n",
    "import warnings\n",
    "warnings.filterwarnings(\"ignore\", category=UserWarning)  # This will suppress UserWarnings\n",
    "\n",
    "\n",
    "\n",
    "import time\n",
    "\n",
    "from sklearn.feature_extraction.text import TfidfVectorizer\n",
    "from sklearn.preprocessing import StandardScaler\n",
    "from sklearn.svm import SVC\n",
    "from sklearn.model_selection import KFold\n",
    "from sklearn.metrics import accuracy_score, classification_report\n",
    "from sklearn.feature_selection import mutual_info_classif\n",
    "from sklearn.feature_selection import SelectKBest\n",
    "from sklearn.model_selection import GridSearchCV\n",
    "from sklearn.pipeline import Pipeline\n",
    "\n",
    "\n",
    "import nltk\n",
    "from nltk.tokenize import word_tokenize\n",
    "from nltk.stem import WordNetLemmatizer\n",
    "from nltk.corpus import stopwords, words\n",
    "\n",
    "# Ensure required NLTK resources are downloaded\n",
    "try:\n",
    "    nltk.download('punkt')\n",
    "    nltk.download('stopwords')\n",
    "    nltk.download('words')\n",
    "\n",
    "except Exception as e:\n",
    "    print(f\"Error downloading NLTK resources: {e}\")\n",
    "\n",
    "# Define stopwords list\n",
    "specific_stopwords = [\"https\", \"subreddit\", \"www\", \"com\"] ## some specific words for the given dataset\n",
    "stopwords_list = stopwords.words('english') +specific_stopwords + stopwords.words('french') # dataset is both in english and in french"
   ]
  },
  {
   "cell_type": "markdown",
   "metadata": {},
   "source": [
    "### <span style=\"color: #FF9800;\">Load training dataset</span> ###"
   ]
  },
  {
   "cell_type": "code",
   "execution_count": 2,
   "metadata": {},
   "outputs": [
    {
     "name": "stdout",
     "output_type": "stream",
     "text": [
      "Training dataset has 1399 examples and there are 4 classes\n"
     ]
    }
   ],
   "source": [
    "# Define the path to the training data file\n",
    "path_training = \"../datasets/Train.csv\"\n",
    "\n",
    "# Read the CSV file into a pandas DataFrame\n",
    "training_data = pd.read_csv(path_training, delimiter=',')\n",
    "\n",
    "# Set column names explicitly for better readability\n",
    "training_data.columns = ['text', 'subreddit']\n",
    "\n",
    "# Shuffle dataset\n",
    "training_data = training_data.sample(frac=1, random_state=42).reset_index(drop=True) \n",
    "\n",
    "# Separate the training data into two series: texts and subreddit labels\n",
    "x_train = training_data['text']          # Contains the Reddit posts or comments\n",
    "y_train = training_data['subreddit'] # Contains the subreddit each post originates from\n",
    "\n",
    "# Get unique subreddit labels\n",
    "unique_labels = np.unique(y_train)   # List of unique subreddits in the dataset\n",
    "\n",
    "n_samples_training = x_train.shape[0]\n",
    "n_classes = unique_labels.shape[0]\n",
    "\n",
    "print(f\"Training dataset has {n_samples_training} examples and there are {n_classes} classes\")"
   ]
  },
  {
   "cell_type": "markdown",
   "metadata": {},
   "source": [
    "### <span style=\"color: #FF9800;\">Load test dataset</span> ###"
   ]
  },
  {
   "cell_type": "code",
   "execution_count": 3,
   "metadata": {},
   "outputs": [
    {
     "name": "stdout",
     "output_type": "stream",
     "text": [
      "Test dataset has 600 examples\n"
     ]
    }
   ],
   "source": [
    "# Define the path to the training data file\n",
    "path_test = \"../datasets/Test.csv\"\n",
    "\n",
    "# Read the CSV file into a pandas DataFrame\n",
    "x_test = pd.read_csv(path_test, delimiter=',')[\"body\"]\n",
    "\n",
    "n_samples_test = x_test.shape[0]\n",
    "print(f\"Test dataset has {n_samples_test} examples\")\n"
   ]
  },
  {
   "cell_type": "markdown",
   "metadata": {},
   "source": [
    "### <span style=\"color: #FF9800;\">Lemma Tokenizer from NLTK</span> ###"
   ]
  },
  {
   "cell_type": "code",
   "execution_count": 4,
   "metadata": {},
   "outputs": [],
   "source": [
    "class LemmaTokenizer:\n",
    "    def __init__(self, stopwords=None):\n",
    "        self.wnl = WordNetLemmatizer()\n",
    "        self.stop_words = stopwords\n",
    "\n",
    "    def __call__(self, doc):\n",
    "        # Tokenize the document and apply lemmatization and filtering\n",
    "        return [\n",
    "            self.wnl.lemmatize(t, pos=\"v\") for t in word_tokenize(doc)\n",
    "            if t.isalpha() and t.lower() not in self.stop_words]"
   ]
  },
  {
   "cell_type": "markdown",
   "metadata": {},
   "source": [
    "### <span style=\"color: #FF9800;\">Hyperparameters search</span> ###"
   ]
  },
  {
   "cell_type": "code",
   "execution_count": 5,
   "metadata": {},
   "outputs": [
    {
     "data": {
      "text/plain": [
       "' # Define the parameter grid for hyperparameter search\\nparam_grid = {\\n    \\'svc__kernel\\': [\\'linear\\', \\'rbf\\', \\'poly\\'],  # Different kernel options\\n    \\'select__k\\': [1000, 2000, 3000, 4000],  # Different values for top k features\\n    \\'svc__C\\': [0.1, 0.2],  # Different values for C (controls slack in SVM)\\n    \\'svc__gamma\\': [\\'scale\\', 0.001, 0.01, 0.1]  # Gamma values for RBF and poly kernels\\n}\\n\\n# Define the pipeline\\npipeline = Pipeline([\\n    (\\'vectorizer\\', TfidfVectorizer(\\n        lowercase=True,\\n        tokenizer=LemmaTokenizer(stopwords=stopwords_list)\\n    )),\\n    (\\'select\\', SelectKBest(mutual_info_classif)),  # Placeholder for k parameter\\n    (\\'scaler\\', StandardScaler(with_mean=False)),  # Use with_mean=False for sparse data\\n    (\\'svc\\', SVC())  # SVM classifier\\n])\\n\\n# Use GridSearchCV to find the best combination of hyperparameters\\ngrid_search = GridSearchCV(\\n    estimator=pipeline,\\n    param_grid=param_grid,\\n    cv=5,  # 10-fold cross-validation\\n    scoring=\\'accuracy\\',\\n    verbose=3,  # To display progress\\n    n_jobs=-1  # Use all available cores\\n)\\n\\n# Fit the model to the training data and search for best parameters\\ngrid_search.fit(x_train, y_train)\\n\\n# Get the best parameters and corresponding score\\nbest_params = grid_search.best_params_\\nbest_score = grid_search.best_score_\\n\\nprint(\"Best Parameters:\", best_params)\\nprint(f\"Best Cross-Validated Accuracy: {best_score:.4f}\") '"
      ]
     },
     "execution_count": 5,
     "metadata": {},
     "output_type": "execute_result"
    }
   ],
   "source": [
    "\"\"\" # Define the parameter grid for hyperparameter search\n",
    "param_grid = {\n",
    "    'svc__kernel': ['linear', 'rbf', 'poly'],  # Different kernel options\n",
    "    'select__k': [1000, 2000, 3000, 4000],  # Different values for top k features\n",
    "    'svc__C': [0.1, 0.2],  # Different values for C (controls slack in SVM)\n",
    "    'svc__gamma': ['scale', 0.001, 0.01, 0.1]  # Gamma values for RBF and poly kernels\n",
    "}\n",
    "\n",
    "# Define the pipeline\n",
    "pipeline = Pipeline([\n",
    "    ('vectorizer', TfidfVectorizer(\n",
    "        lowercase=True,\n",
    "        tokenizer=LemmaTokenizer(stopwords=stopwords_list)\n",
    "    )),\n",
    "    ('select', SelectKBest(mutual_info_classif)),  # Placeholder for k parameter\n",
    "    ('scaler', StandardScaler(with_mean=False)),  # Use with_mean=False for sparse data\n",
    "    ('svc', SVC())  # SVM classifier\n",
    "])\n",
    "\n",
    "# Use GridSearchCV to find the best combination of hyperparameters\n",
    "grid_search = GridSearchCV(\n",
    "    estimator=pipeline,\n",
    "    param_grid=param_grid,\n",
    "    cv=5,  # 10-fold cross-validation\n",
    "    scoring='accuracy',\n",
    "    verbose=3,  # To display progress\n",
    "    n_jobs=-1  # Use all available cores\n",
    ")\n",
    "\n",
    "# Fit the model to the training data and search for best parameters\n",
    "grid_search.fit(x_train, y_train)\n",
    "\n",
    "# Get the best parameters and corresponding score\n",
    "best_params = grid_search.best_params_\n",
    "best_score = grid_search.best_score_\n",
    "\n",
    "print(\"Best Parameters:\", best_params)\n",
    "print(f\"Best Cross-Validated Accuracy: {best_score:.4f}\") \"\"\"\n"
   ]
  },
  {
   "cell_type": "markdown",
   "metadata": {},
   "source": [
    "### <span style=\"color: #FF9800;\">10-fold cross validation</span> ###"
   ]
  },
  {
   "cell_type": "code",
   "execution_count": null,
   "metadata": {},
   "outputs": [
    {
     "name": "stdout",
     "output_type": "stream",
     "text": [
      "\n",
      "Fold n°1:\n",
      "Classification Report:\n",
      "               precision    recall  f1-score   support\n",
      "\n",
      "    Brussels       0.69      0.87      0.77        38\n",
      "      London       0.71      0.84      0.77        32\n",
      "    Montreal       0.90      0.59      0.72        32\n",
      "     Toronto       0.85      0.74      0.79        38\n",
      "\n",
      "    accuracy                           0.76       140\n",
      "   macro avg       0.79      0.76      0.76       140\n",
      "weighted avg       0.79      0.76      0.76       140\n",
      "\n"
     ]
    }
   ],
   "source": [
    "vectorizer = TfidfVectorizer(\n",
    "    lowercase=True,\n",
    "    tokenizer=LemmaTokenizer(stopwords=stopwords_list)\n",
    ")\n",
    "\n",
    "x_train_tfidf = vectorizer.fit_transform(x_train)\n",
    "\n",
    "selector = SelectKBest(mutual_info_classif, k=3000)\n",
    "x_train_mi = selector.fit_transform(x_train_tfidf, y_train)\n",
    "\n",
    "scaler = StandardScaler()\n",
    "x_train_svc = scaler.fit_transform(np.asarray(x_train_mi.todense()))\n",
    "\n",
    "classifier = SVC(kernel=\"rbf\",gamma='scale', C=1)\n",
    "\n",
    "\n",
    "accuracies = []\n",
    "class_accuracies = {class_name: [] for class_name in set(y_train)}  # To store accuracy for each class\n",
    "kf = KFold(n_splits=10, shuffle=True, random_state=42)\n",
    "fold = 0\n",
    "\n",
    "# Start measuring time\n",
    "start_time = time.time()\n",
    "\n",
    "accuracies = []\n",
    "training_accuracies = []\n",
    "class_accuracies = {class_name: [] for class_name in set(y_train)}  # To store accuracy for each class\n",
    "kf = KFold(n_splits=10, shuffle=True, random_state=42)\n",
    "fold = 0\n",
    "\n",
    "for train_index, val_index in kf.split(x_train_svc):\n",
    "    fold += 1\n",
    "    X_train_fold, X_val_fold = x_train_svc[train_index], x_train_svc[val_index]\n",
    "    y_fold_train, y_fold_val = y_train[train_index], y_train[val_index]\n",
    "    \n",
    "    # Train the classifier\n",
    "    classifier.fit(X_train_fold, y_fold_train)\n",
    "    \n",
    "    # Predict and evaluate on the validation set\n",
    "    y_pred = classifier.predict(X_val_fold)\n",
    "    y_pred_training = classifier.predict(X_train_fold)\n",
    "    \n",
    "    # Display results for each fold\n",
    "    print(f\"\\nFold n°{fold}:\")\n",
    "    \n",
    "    # Get accuracy per class\n",
    "    class_accuracy = classification_report(y_fold_val, y_pred, output_dict=True)\n",
    "    print(\"Classification Report:\\n\", classification_report(y_fold_val, y_pred))\n",
    "\n",
    "    accuracy = accuracy_score(y_fold_val, y_pred)\n",
    "    accuracies.append(accuracy)\n",
    "\n",
    "    accuracy_training = accuracy_score(y_pred_training, y_fold_train)\n",
    "    training_accuracies.append(accuracy_training)\n",
    "    \n",
    "    for label, metrics in class_accuracy.items():\n",
    "        if label != 'accuracy' and label!=\"macro avg\" and label!= \"weighted avg\": \n",
    "            class_accuracies[label].append(metrics['precision'])\n",
    "\n",
    "# Compute total time\n",
    "end_time = time.time()\n",
    "total_time = end_time - start_time\n",
    "print(f\"\\nTotal computing time for 10 folds: {total_time:.2f} seconds\")\n",
    "\n",
    "# Mean accuracy across 10 folds\n",
    "mean_accuracy = np.mean(accuracies)\n",
    "print(f\"Mean Accuracy across 10 folds for SVM classifier: {mean_accuracy:.4f}\")\n",
    "\n",
    "# Average accuracy for each class\n",
    "print(\"\\nAverage Accuracy per Class:\")\n",
    "for label, accuracies in class_accuracies.items():\n",
    "    avg_class_accuracy = np.mean(accuracies)\n",
    "    print(f\"Class {label}: {avg_class_accuracy:.4f}\")\n",
    "\n",
    "# Mean training accuracy across 10 folds\n",
    "mean_training_accuracy = np.mean(accuracy_training)\n",
    "print(f\"Mean training accuracy across 10 folds for SVM classifier: {mean_training_accuracy:.4f}\")"
   ]
  }
 ],
 "metadata": {
  "kernelspec": {
   "display_name": "myenv",
   "language": "python",
   "name": "python3"
  },
  "language_info": {
   "codemirror_mode": {
    "name": "ipython",
    "version": 3
   },
   "file_extension": ".py",
   "mimetype": "text/x-python",
   "name": "python",
   "nbconvert_exporter": "python",
   "pygments_lexer": "ipython3",
   "version": "3.12.3"
  }
 },
 "nbformat": 4,
 "nbformat_minor": 2
}
